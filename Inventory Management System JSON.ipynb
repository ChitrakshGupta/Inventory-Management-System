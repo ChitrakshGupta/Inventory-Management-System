{
 "cells": [
  {
   "cell_type": "code",
   "execution_count": 28,
   "id": "80381219",
   "metadata": {},
   "outputs": [
    {
     "name": "stdout",
     "output_type": "stream",
     "text": [
      "------Menu-----\n",
      "1001  : 5 Star  |  10  |  190\n",
      "1002  : Bar-One  |  20  |  100\n",
      "1003  : Candy  |  2  |  1000\n",
      "1004  : Chocolate Cake  |  550  |  8\n",
      "1005  : Blueberry Cake  |  650  |  5\n",
      "---------------\n",
      "Enter Name   :Chitraksh\n",
      "Enter Phone :987828282\n",
      "Enter mail   :chitrakshgupta20@gmail.com\n",
      "Enter Product  id :1002\n",
      "Enter quantity10\n",
      "----------Bill-----------\n",
      "\n",
      "Product Name : Bar-One\n",
      "Price(Rs)    : 20 Rs\n",
      "Quantity     : 90\n",
      "-------------------------\n",
      "\n",
      "Total Amount : 200\n"
     ]
    }
   ],
   "source": [
    "import json\n",
    "import time\n",
    "fd=open(\"Record.json\",'r')\n",
    "js=fd.read()\n",
    "record=json.loads(js)\n",
    "fd.close()\n",
    "print(\"------Menu-----\")\n",
    "for key in record.keys():\n",
    "    print(key,\" :\",record[key]['Name'],\" | \",\n",
    "          record[key]['Price'],\" | \",\n",
    "          record[key]['Qn'])\n",
    "print(\"---------------\")\n",
    "sales=\"\"\n",
    "name=input(\"Enter Name   :\")\n",
    "phone=input(\"Enter Phone :\")\n",
    "mail=input(\"Enter mail   :\")\n",
    "\n",
    "item=str(input(\"Enter Product  id :\"))\n",
    "qn=int(input(\"Enter quantity\"))\n",
    "\n",
    "if(qn<=record[item]['Qn']):\n",
    "    record[item]['Qn']=record[item]['Qn']-qn\n",
    "    print(\"----------Bill-----------\\n\")\n",
    "    print(\"Product Name :\",record[item]['Name'])\n",
    "    print(\"Price(Rs)    :\",record[item]['Price'],\"Rs\")\n",
    "    print(\"Quantity     :\",record[item]['Qn'])\n",
    "    print(\"-------------------------\\n\")\n",
    "    print(\"Total Amount :\",qn*int(record[item]['Price']))\n",
    "    sales=name+\",\"+mail+\",\"+phone+\",\"+record[item]['Name']+\",\"+str(qn)+\",\"+str(int(record[item]['Price'])*int(qn))+','+time.ctime()+'\\n'\n",
    "                                                      \n",
    "else:\n",
    "    print(\"Not enough!!\")\n",
    "    print(\"Available Quantity: \",record[item]['Qn'])\n",
    "    ab=input(\"Type Y if want to continue else N :\")\n",
    "    if(ab=='Y'):\n",
    "       \n",
    "    \n",
    "        print(\"----------Bill-----------\\n\")\n",
    "        print(\"Product Name :\",record[item]['Name'])\n",
    "        print(\"Price(Rs)    :\",record[item]['Price'],\"Rs\")\n",
    "        print(\"Quantity     :\",record[item]['Qn'])\n",
    "        print(\"-------------------------\\n\")\n",
    "        print(\"Total Amount :\",int(record[item]['Qn'])*int(record[item]['Price']))\n",
    "        sales=name+\",\"+mail+\",\"+phone+\",\"+record[item]['Name']+\",\"+str(record[item]['Qn'])+\",\"+str(int(record[item]['Price'])*int(record[item]['Qn']))+','+time.ctime()+'\\n'\n",
    "        record[item]['Qn']=0\n",
    "    else:\n",
    "        print(\"Visit Again ,Thanks!\")\n",
    "fd=open('SalesJson.txt','a')\n",
    "fd.write(sales)\n",
    "fd.close()\n",
    "\n",
    "js=json.dumps(record)\n",
    "fd=open(\"Record.json\",'w')\n",
    "fd.write(js)\n",
    "fd.close()\n"
   ]
  }
 ],
 "metadata": {
  "kernelspec": {
   "display_name": "Python 3 (ipykernel)",
   "language": "python",
   "name": "python3"
  },
  "language_info": {
   "codemirror_mode": {
    "name": "ipython",
    "version": 3
   },
   "file_extension": ".py",
   "mimetype": "text/x-python",
   "name": "python",
   "nbconvert_exporter": "python",
   "pygments_lexer": "ipython3",
   "version": "3.9.7"
  }
 },
 "nbformat": 4,
 "nbformat_minor": 5
}

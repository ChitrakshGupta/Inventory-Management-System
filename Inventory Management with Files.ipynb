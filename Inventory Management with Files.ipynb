{
 "cells": [
  {
   "cell_type": "markdown",
   "id": "adc46f1d",
   "metadata": {},
   "source": [
    "## Product Details\n",
    "\n",
    "1.Product Id\n",
    "\n",
    "2.Name of Product\n",
    "\n",
    "3.Price of Product\n",
    "\n",
    "4.Quantity \n",
    "\n"
   ]
  },
  {
   "cell_type": "markdown",
   "id": "e50be0aa",
   "metadata": {},
   "source": [
    "## Inventory Management with Files"
   ]
  },
  {
   "cell_type": "code",
   "execution_count": 176,
   "id": "087e1cd5",
   "metadata": {},
   "outputs": [
    {
     "name": "stdout",
     "output_type": "stream",
     "text": [
      "Enter Name:Bittu\n",
      "enter Phone no:987878272\n",
      "enter mail idbittu@gmail.com\n",
      "Enter Product Id :2\n",
      "Enter Quantity :100\n",
      "Sorry, WE are not having enough quantity\n",
      "available quantity  96\n",
      "would you like to purchase it\n",
      "press Y/NY\n",
      "---------------Bill------------------\n",
      "Product name: Milky Bar\n",
      "price       : 5\n",
      "quantity    : 100\n",
      "------------------------------------\n",
      "Billing Amount : 500\n",
      "------------------------------------\n",
      "Inventry Updated into sales.txt\n"
     ]
    }
   ],
   "source": [
    "import time\n",
    "fd=open(\"inventry.txt\",\"r\")\n",
    "products = fd.read().split('\\n')\n",
    "fd.close()\n",
    "username=input(\"Enter Name:\")\n",
    "phone=input(\"enter Phone no:\")\n",
    "mail=input(\"enter mail id\")\n",
    "opt=input(\"Enter Product Id :\")\n",
    "quantity=input(\"Enter Quantity :\")\n",
    "\n",
    "updated_product_lst=[]\n",
    "for product in products:\n",
    "    \n",
    "    prod_details=product.split(',')\n",
    "    if(product.split(\",\")[0]==opt):\n",
    "        if(int(quantity)<=int(prod_details[3])):\n",
    "            print(\"---------------Bill------------------\")\n",
    "            print(\"Product name:\" ,prod_details[1])\n",
    "            print(\"price       :\",prod_details[2])\n",
    "\n",
    "            print(\"quantity    :\",quantity)\n",
    "            print(\"------------------------------------\")\n",
    "            print(\"Billing Amount :\",int(quantity)*int(prod_details[2]))\n",
    "            print(\"------------------------------------\")\n",
    "            prod_details[3]=str(int(prod_details[3])-int(quantity))\n",
    "            # updating inventry list\n",
    "            fd=open('Sales.txt','a')\n",
    "            sales_det=username+\",\"+mail+\",\"+phone+\",\"+opt+\",\"+quantity+\",\"+str(int(quantity)*int(prod_details[2]))+\",\"+time.ctime()+\"\\n\"\n",
    "            fd.write(sales_det)\n",
    "            fd.close()\n",
    "            print(\"Inventry Updated into sales.txt\")\n",
    "            \n",
    "            \n",
    "        else:\n",
    "            print(\"Sorry, WE are not having enough quantity\")\n",
    "            print(\"available quantity \",prod_details[3])\n",
    "            print(\"would you like to purchase it\")\n",
    "            ch=input(\"press Y/N\")\n",
    "            if(ch==\"Y\"or ch==\"y\"):\n",
    "                print(\"---------------Bill------------------\")\n",
    "                print(\"Product name:\" ,prod_details[1])\n",
    "                print(\"price       :\",prod_details[2])\n",
    "\n",
    "                print(\"quantity    :\",quantity)\n",
    "                print(\"------------------------------------\")\n",
    "                print(\"Billing Amount :\",int(quantity)*int(prod_details[2]))\n",
    "                print(\"------------------------------------\")\n",
    "                prod_details[3]='0'\n",
    "                fd=open('Sales.txt','a')\n",
    "                sales_det=username+\",\"+mail+\",\"+phone+\",\"+opt+\",\"+quantity+\",\"+prod_details[2]+time.ctime()+\"\\n\"\n",
    "                fd.write(sales_det)\n",
    "                fd.close()\n",
    "                print(\"Inventry Updated into sales.txt\")\n",
    "    updated_product_lst.append(prod_details)\n",
    "lst=[]\n",
    "for i in updated_product_lst:\n",
    "        prod=i[0]+\",\"+i[1]+\",\"+i[2]+\",\"+i[3]+\"\\n\"\n",
    "        lst.append(prod)\n",
    "lst[-1]=lst[-1][:-1]\n",
    "fd = open('inventry.txt','w')\n",
    "\n",
    "for i in lst:\n",
    "    fd.write(i)\n",
    "\n",
    "fd.close()"
   ]
  },
  {
   "cell_type": "code",
   "execution_count": 172,
   "id": "bf01693c",
   "metadata": {},
   "outputs": [],
   "source": []
  },
  {
   "cell_type": "code",
   "execution_count": null,
   "id": "cc9fc2b3",
   "metadata": {},
   "outputs": [],
   "source": []
  }
 ],
 "metadata": {
  "kernelspec": {
   "display_name": "Python 3 (ipykernel)",
   "language": "python",
   "name": "python3"
  },
  "language_info": {
   "codemirror_mode": {
    "name": "ipython",
    "version": 3
   },
   "file_extension": ".py",
   "mimetype": "text/x-python",
   "name": "python",
   "nbconvert_exporter": "python",
   "pygments_lexer": "ipython3",
   "version": "3.9.7"
  }
 },
 "nbformat": 4,
 "nbformat_minor": 5
}
